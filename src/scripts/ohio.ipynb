{
 "metadata": {
  "language_info": {
   "codemirror_mode": {
    "name": "ipython",
    "version": 3
   },
   "file_extension": ".py",
   "mimetype": "text/x-python",
   "name": "python",
   "nbconvert_exporter": "python",
   "pygments_lexer": "ipython3",
   "version": 3
  },
  "orig_nbformat": 2
 },
 "nbformat": 4,
 "nbformat_minor": 2,
 "cells": [
  {
   "source": [
    "# Instructions\n",
    "1. Click on `Runtime > Run all` from the top menu.\n",
    "1. Copy the output at the bottom of the page; you can select it all, or click it and then press `CTRL + A`.\n",
    "1. Go to the [state spreadsheet](https://docs.google.com/spreadsheets/d/1FtEIDMiKOgcfeot9M6khWzITd-7seWQ4EdMkzG6fmw8/edit#gid=1094833013), right-click the first empty cell at the bottom and select `Paste special > Paste values only`.\n",
    "\n",
    "Please make sure no previous data is overwritten!\n",
    "\n",
    "Also verify that the date is correct, since the current date is automatically filled in but the last updated time could be from several days prior."
   ],
   "cell_type": "markdown",
   "metadata": {}
  },
  {
   "cell_type": "code",
   "execution_count": null,
   "metadata": {},
   "outputs": [],
   "source": [
    "import datetime\n",
    "import re\n",
    "import pandas as pd\n",
    "\n",
    "SCHOOL_DATA = 'https://coronavirus.ohio.gov/static/dashboards/school_reporting.csv'\n",
    "DISTRICT_METADATA = 'https://docs.google.com/spreadsheets/d/e/2PACX-1vSfTEYXDiLrEw42lUDnhu7peCxqjx_9I-8zMBmpa1QdlmWCJGA1R8W21vNZUrAuu8HoTynXk7eo5Obg/pub?gid=243950450&single=true&output=csv'\n",
    "\n",
    "# Load case data and metadata for this state\n",
    "df = pd.read_csv(SCHOOL_DATA, dtype=str)\n",
    "metadata = pd.read_csv(DISTRICT_METADATA, dtype=str)\n",
    "metadata = metadata[metadata['state'] == 'OH'] \n",
    "\n",
    "# Match the data with our known district identifiers\n",
    "df['district_name'] = df['school_or_school_district']\n",
    "metadata['county'] = metadata['county_name'].str.replace(' County', '')\n",
    "df = df.merge(metadata, how='inner')\n",
    "\n",
    "# Add a date and website fields to the data\n",
    "df['date'] = datetime.datetime.now().date().isoformat()\n",
    "df['website'] = SCHOOL_DATA\n",
    "\n",
    "# Output columns in the same order as our data\n",
    "df = df[[\n",
    "  \"date\",\n",
    "  \"district_id\",\n",
    "  \"district_name\",\n",
    "  \"student_cases_new\",\n",
    "  \"student_cases_cumulative\",\n",
    "  \"staff_cases_new\",\n",
    "  \"staff_cases_cumulative\",\n",
    "  \"website\",\n",
    "]]\n",
    "\n",
    "# Replace unknown data with nulls\n",
    "for column in [col for col in df.columns if '_new' in col or '_cumulative' in col]:\n",
    "  df[column] = df[column].apply(lambda x: x if re.match(r'\\d+', x) else None)\n",
    "\n",
    "print(df.to_csv(sep='\\t', index=False, header=False))"
   ]
  }
 ]
}
